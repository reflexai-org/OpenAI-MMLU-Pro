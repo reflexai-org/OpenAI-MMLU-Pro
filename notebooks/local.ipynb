{
 "cells": [
  {
   "cell_type": "code",
   "execution_count": null,
   "id": "d8535a7a",
   "metadata": {
    "vscode": {
     "languageId": "plaintext"
    }
   },
   "outputs": [],
   "source": [
    "%cd /content/\n",
    "!git clone --depth 1 https://github.com/reflexai-org/OpenAI-MMLU-Pro.git\n",
    "%cd OpenAI-MMLU-Pro\n",
    "!pip install -r requirements.txt\n"
   ]
  },
  {
   "cell_type": "code",
   "execution_count": null,
   "id": "34c78a4c",
   "metadata": {
    "vscode": {
     "languageId": "plaintext"
    }
   },
   "outputs": [],
   "source": [
    "# Run this cell in a different notebook or in terminal. Don't forget to cd to the correct directory!\n",
    "# !uvicorn custom-endpoint:app --host 0.0.0.0 --port 5000 --reload"
   ]
  },
  {
   "cell_type": "code",
   "execution_count": null,
   "id": "51d752d5",
   "metadata": {
    "vscode": {
     "languageId": "plaintext"
    }
   },
   "outputs": [],
   "source": [
    "!rm -rf eval_results\n",
    "!python run_openai.py \\\n",
    "    --url http://localhost:5000/v1 \\\n",
    "    --model Qwen/Qwen3-4B-Instruct-2507 \\\n",
    "    --category 'computer science' \\\n",
    "    --verbosity 0 \\\n",
    "    --parallel 16\n"
   ]
  }
 ],
 "metadata": {
  "language_info": {
   "name": "python"
  }
 },
 "nbformat": 4,
 "nbformat_minor": 5
}
